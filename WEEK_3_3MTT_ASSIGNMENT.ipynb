{
  "nbformat": 4,
  "nbformat_minor": 0,
  "metadata": {
    "colab": {
      "provenance": []
    },
    "kernelspec": {
      "name": "python3",
      "display_name": "Python 3"
    },
    "language_info": {
      "name": "python"
    }
  },
  "cells": [
    {
      "cell_type": "markdown",
      "source": [
        "WEEK3: DEVELOP A PYTHON SCRIPT THAT SHOWCASES THE PYTHON BASICS LEARNED, DEMOSTRATING YOUR UNDERSTANDING OF PYTHON PROGRAMMING."
      ],
      "metadata": {
        "id": "dqgi66hWlq9d"
      }
    },
    {
      "cell_type": "code",
      "source": [
        "#Creating a variable#\n",
        "name = \"Aleena\"\n",
        "age = 5\n",
        "height = 3.8\n",
        "is_student = True"
      ],
      "metadata": {
        "id": "bbGZp7g6mH2Z"
      },
      "execution_count": null,
      "outputs": []
    },
    {
      "cell_type": "code",
      "source": [
        "# Print variables\n",
        "print(\"Name:\", name)\n",
        "print(\"Age:\", age)\n",
        "print(\"Height:\", height)\n",
        "print(\"Is Student?\", is_student)"
      ],
      "metadata": {
        "colab": {
          "base_uri": "https://localhost:8080/"
        },
        "id": "_oEzS-XKq8B2",
        "outputId": "c2859093-3a83-4cbf-db4d-801d53f34d11"
      },
      "execution_count": null,
      "outputs": [
        {
          "output_type": "stream",
          "name": "stdout",
          "text": [
            "Name: Aleena\n",
            "Age: 5\n",
            "Height: 3.8\n",
            "Is Student? True\n"
          ]
        }
      ]
    },
    {
      "cell_type": "code",
      "execution_count": null,
      "metadata": {
        "colab": {
          "base_uri": "https://localhost:8080/"
        },
        "id": "srGJ8g34loIc",
        "outputId": "02c2601b-e32e-482d-e521-23b17dff961d"
      },
      "outputs": [
        {
          "output_type": "stream",
          "name": "stdout",
          "text": [
            "You are a minor.\n"
          ]
        }
      ],
      "source": [
        "# Conditional statement\n",
        "if age >= 18:\n",
        "    print(\"You are an adult.\")\n",
        "else:\n",
        "    print(\"You are a minor.\")"
      ]
    },
    {
      "cell_type": "code",
      "source": [
        "# Loop\n",
        "print(\"Counting from 1 to 5:\")\n",
        "for B in range(1, 6):\n",
        "    print(B)\n"
      ],
      "metadata": {
        "colab": {
          "base_uri": "https://localhost:8080/"
        },
        "id": "rVkYET0-rM-K",
        "outputId": "90893562-7c26-411d-ac89-9ae4deca6ce2"
      },
      "execution_count": null,
      "outputs": [
        {
          "output_type": "stream",
          "name": "stdout",
          "text": [
            "Counting from 1 to 5:\n",
            "5\n",
            "5\n",
            "5\n",
            "5\n",
            "5\n"
          ]
        }
      ]
    },
    {
      "cell_type": "code",
      "source": [
        "# Function\n",
        "def greet(name):\n",
        "   return \"Hello, \"+ Aleena +\"!\"\n"
      ],
      "metadata": {
        "id": "agyqIzSwrfHP"
      },
      "execution_count": null,
      "outputs": []
    },
    {
      "cell_type": "code",
      "source": [
        "def greet(name=\"moonrise\"):\n",
        "    return \"Hello, \" + name + \"!\""
      ],
      "metadata": {
        "id": "AiVsfUHt6rXN"
      },
      "execution_count": null,
      "outputs": []
    },
    {
      "cell_type": "code",
      "source": [
        "# Call the function without providing any argument\n",
        "print(greet())"
      ],
      "metadata": {
        "colab": {
          "base_uri": "https://localhost:8080/"
        },
        "id": "OH2zcuIK-aQP",
        "outputId": "d6377654-d0d7-427b-ab9f-753363cfdbd9"
      },
      "execution_count": null,
      "outputs": [
        {
          "output_type": "stream",
          "name": "stdout",
          "text": [
            "Hello, moonrise!\n"
          ]
        }
      ]
    },
    {
      "cell_type": "code",
      "source": [
        "# Call the function with an argument\n",
        "print(greet(\"Aleena\"))"
      ],
      "metadata": {
        "colab": {
          "base_uri": "https://localhost:8080/"
        },
        "id": "QMeA2LIb-hGu",
        "outputId": "035eadb4-6690-41f1-914b-cb65d535216d"
      },
      "execution_count": null,
      "outputs": [
        {
          "output_type": "stream",
          "name": "stdout",
          "text": [
            "Hello, Aleena!\n"
          ]
        }
      ]
    },
    {
      "cell_type": "code",
      "source": [],
      "metadata": {
        "id": "40Q869DHcoLw"
      },
      "execution_count": null,
      "outputs": []
    }
  ]
}