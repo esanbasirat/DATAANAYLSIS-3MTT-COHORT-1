{
  "nbformat": 4,
  "nbformat_minor": 0,
  "metadata": {
    "colab": {
      "provenance": []
    },
    "kernelspec": {
      "name": "python3",
      "display_name": "Python 3"
    },
    "language_info": {
      "name": "python"
    }
  },
  "cells": [
    {
      "cell_type": "markdown",
      "source": [
        "WEEK 6 ASSIGNMENT QUESTION: APPLY ADVANCED STATISTICAL TECHNIQUES TO DATASET, PRESENTING FINDINGS AND INSIGHTS."
      ],
      "metadata": {
        "id": "Mqr_2KOigQte"
      }
    },
    {
      "cell_type": "code",
      "source": [],
      "metadata": {
        "id": "zfwf4HYkXXib"
      },
      "execution_count": null,
      "outputs": []
    },
    {
      "cell_type": "markdown",
      "source": [
        "STATISTICAL TOOLS HELP UNDERSTAND THE MEANING OR INFERENCE OF CERTAIN VALUES THAT ARE UNDER ANALYSIS WHICH HELP US MAKE INFORMED DECISIONS.\n"
      ],
      "metadata": {
        "id": "Dc2M5afCguPL"
      }
    },
    {
      "cell_type": "code",
      "execution_count": null,
      "metadata": {
        "id": "9hrkRLSDf9JU"
      },
      "outputs": [],
      "source": [
        "#IMPORTING THE LIBRARY\n",
        "import numpy as np"
      ]
    },
    {
      "cell_type": "code",
      "source": [
        "#creating a dataframe called \"milk\"\n",
        "milk = np.array([3,5,8,9, 7,9,4,5,5])"
      ],
      "metadata": {
        "id": "zur8fXjaii5A"
      },
      "execution_count": null,
      "outputs": []
    },
    {
      "cell_type": "code",
      "source": [
        "#display the dataframe\n",
        "print(milk)"
      ],
      "metadata": {
        "colab": {
          "base_uri": "https://localhost:8080/"
        },
        "id": "Ex8WqCaFjVzH",
        "outputId": "6ee3d1ba-c844-4af5-aa46-daa1387cd016"
      },
      "execution_count": null,
      "outputs": [
        {
          "output_type": "stream",
          "name": "stdout",
          "text": [
            "[3 5 8 9 7 9 4 5 5]\n"
          ]
        }
      ]
    },
    {
      "cell_type": "markdown",
      "source": [
        "We can also check for the statistical components of the above data frame.\n",
        "Components like the mean, madian, standard deviation anv variance of the dataframe."
      ],
      "metadata": {
        "id": "y3DfHrtolUZP"
      }
    },
    {
      "cell_type": "code",
      "source": [
        "#checking the mean\n",
        "mean = np.mean(milk)\n",
        "print(mean)"
      ],
      "metadata": {
        "colab": {
          "base_uri": "https://localhost:8080/"
        },
        "id": "sMAq7vJylhLL",
        "outputId": "b8d7c44b-278e-4178-8fd4-f77da8860538"
      },
      "execution_count": null,
      "outputs": [
        {
          "output_type": "stream",
          "name": "stdout",
          "text": [
            "6.111111111111111\n"
          ]
        }
      ]
    },
    {
      "cell_type": "code",
      "source": [
        "#checking the median\n",
        "median = np.median(milk)\n",
        "print(median)"
      ],
      "metadata": {
        "colab": {
          "base_uri": "https://localhost:8080/"
        },
        "id": "hVRbRFL5mDgv",
        "outputId": "e6c04d0f-be2b-4cbe-cfda-b0433bc8580d"
      },
      "execution_count": null,
      "outputs": [
        {
          "output_type": "stream",
          "name": "stdout",
          "text": [
            "5.0\n"
          ]
        }
      ]
    },
    {
      "cell_type": "code",
      "source": [
        "#standard deviation\n",
        "std_dev = np.std(milk)\n",
        "print(std_dev)"
      ],
      "metadata": {
        "colab": {
          "base_uri": "https://localhost:8080/"
        },
        "id": "Tzxvz2exm0td",
        "outputId": "645f130b-8972-46d5-b760-62278b029130"
      },
      "execution_count": null,
      "outputs": [
        {
          "output_type": "stream",
          "name": "stdout",
          "text": [
            "2.078698548207745\n"
          ]
        }
      ]
    },
    {
      "cell_type": "code",
      "source": [
        "#variance\n",
        "variance =np.var(milk)\n",
        "print(variance)"
      ],
      "metadata": {
        "colab": {
          "base_uri": "https://localhost:8080/"
        },
        "id": "FfE9Bn1PnWXN",
        "outputId": "04043a41-7a7d-42d7-978f-d9a4ccd41f1a"
      },
      "execution_count": null,
      "outputs": [
        {
          "output_type": "stream",
          "name": "stdout",
          "text": [
            "4.320987654320987\n"
          ]
        }
      ]
    },
    {
      "cell_type": "markdown",
      "source": [
        "Given this menial analysis above let now consider a dataframe with numerous or bulky dataset. Importing the data as csv file. this will lead to combination of pandas and NumPy importation."
      ],
      "metadata": {
        "id": "_1iJONjCnoJS"
      }
    },
    {
      "cell_type": "code",
      "source": [
        "#Importing the csv file\n",
        "import pandas as pd\n",
        "import numpy as np\n",
        "# read csv file\n",
        "df = pd.read_csv('Study.csv')\n",
        "print(df)"
      ],
      "metadata": {
        "id": "2bTfFGTcIuan",
        "colab": {
          "base_uri": "https://localhost:8080/"
        },
        "outputId": "735e4fcc-8ea8-4eac-f155-f60dbf299000"
      },
      "execution_count": null,
      "outputs": [
        {
          "output_type": "stream",
          "name": "stdout",
          "text": [
            "    Hours  Scores\n",
            "0     2.5      21\n",
            "1     5.1      47\n",
            "2     3.2      27\n",
            "3     8.5      75\n",
            "4     3.5      30\n",
            "5     1.5      20\n",
            "6     9.2      88\n",
            "7     5.5      60\n",
            "8     8.3      81\n",
            "9     2.7      25\n",
            "10    7.7      85\n",
            "11    5.9      62\n",
            "12    4.5      41\n",
            "13    3.3      42\n",
            "14    1.1      17\n",
            "15    8.9      95\n",
            "16    2.5      30\n",
            "17    1.9      24\n",
            "18    6.1      67\n",
            "19    7.4      69\n",
            "20    2.7      30\n",
            "21    4.8      54\n",
            "22    3.8      35\n",
            "23    6.9      76\n",
            "24    7.8      86\n"
          ]
        }
      ]
    },
    {
      "cell_type": "markdown",
      "source": [
        "The data imported is about the relationship between study hours and score obtained in a test by 25 students."
      ],
      "metadata": {
        "id": "8OXmIyjGmox_"
      }
    },
    {
      "cell_type": "markdown",
      "source": [
        "We can now read and convert the dataframe to a NumPy array."
      ],
      "metadata": {
        "id": "PP8lpQuUZIIT"
      }
    },
    {
      "cell_type": "code",
      "source": [
        "import numpy as np\n",
        "import pandas as pd\n",
        "# Importing CSV file into a pandas DataFrame\n",
        "df = pd.read_csv('Study.csv')"
      ],
      "metadata": {
        "id": "mpUwNLd-ZIaZ"
      },
      "execution_count": null,
      "outputs": []
    },
    {
      "cell_type": "code",
      "source": [
        "# Converting DataFrame to NumPy array\n",
        "csv_array = df.values\n"
      ],
      "metadata": {
        "id": "-jHm9GTqZSsU"
      },
      "execution_count": null,
      "outputs": []
    },
    {
      "cell_type": "code",
      "source": [
        "# Calculating mean\n",
        "mean_values = csv_array.mean()"
      ],
      "metadata": {
        "id": "BeNk6CUDZwkU"
      },
      "execution_count": null,
      "outputs": []
    },
    {
      "cell_type": "code",
      "source": [
        "#printing the Mean\n",
        "print(mean_values)"
      ],
      "metadata": {
        "colab": {
          "base_uri": "https://localhost:8080/"
        },
        "id": "RvqAzyKRagV1",
        "outputId": "97c329f4-05dd-4e2b-86c9-e623d700a412"
      },
      "execution_count": null,
      "outputs": [
        {
          "output_type": "stream",
          "name": "stdout",
          "text": [
            "28.245999999999995\n"
          ]
        }
      ]
    },
    {
      "cell_type": "code",
      "source": [
        "# Calculating median\n",
        "median_values = np.median(csv_array, axis=0)"
      ],
      "metadata": {
        "id": "kuypE0X_anNY"
      },
      "execution_count": null,
      "outputs": []
    },
    {
      "cell_type": "code",
      "source": [
        "#printing the Median\n",
        "print(median_values)"
      ],
      "metadata": {
        "colab": {
          "base_uri": "https://localhost:8080/"
        },
        "id": "CRkJkvU_fYI6",
        "outputId": "82ac3ab2-92b2-43d4-9b3c-8378b1e8ada9"
      },
      "execution_count": null,
      "outputs": [
        {
          "output_type": "stream",
          "name": "stdout",
          "text": [
            "[ 4.8 47. ]\n"
          ]
        }
      ]
    },
    {
      "cell_type": "code",
      "source": [
        "# Calculating standard deviation\n",
        "std_dev_values = csv_array.std()\n",
        "print(std_dev_values)"
      ],
      "metadata": {
        "colab": {
          "base_uri": "https://localhost:8080/"
        },
        "id": "wxSrFPrka__0",
        "outputId": "37eeb9e1-9b7b-4403-baf5-c487d46e6a0a"
      },
      "execution_count": null,
      "outputs": [
        {
          "output_type": "stream",
          "name": "stdout",
          "text": [
            "29.15139934891634\n"
          ]
        }
      ]
    },
    {
      "cell_type": "code",
      "source": [
        "# Calculating Variance\n",
        "variance_values = csv_array.var()\n",
        "print(variance_values)"
      ],
      "metadata": {
        "colab": {
          "base_uri": "https://localhost:8080/"
        },
        "id": "ZN6O1CtQcXSH",
        "outputId": "20734e87-47a4-411b-df54-69833d4d54ed"
      },
      "execution_count": null,
      "outputs": [
        {
          "output_type": "stream",
          "name": "stdout",
          "text": [
            "849.804084\n"
          ]
        }
      ]
    },
    {
      "cell_type": "markdown",
      "source": [
        "A higher variance indicates that the values in the dataset are more spread out from the mean, suggesting greater variability or heterogeneity within the data. meaning the relationship between study hours and scores variable."
      ],
      "metadata": {
        "id": "etRuSbP-3HMK"
      }
    },
    {
      "cell_type": "code",
      "source": [
        "import pandas as pd\n",
        "import numpy as np\n",
        "from scipy.stats import pearsonr, chi2_contingency, ttest_ind"
      ],
      "metadata": {
        "id": "j-MVGKVOg455"
      },
      "execution_count": 1,
      "outputs": []
    },
    {
      "cell_type": "code",
      "source": [
        "# Calculating correlation coefficient (Pearson correlation)\n",
        "correlation_coefficient_values = np.corrcoef(csv_array, rowvar=False)\n",
        "print(correlation_coefficient_values)"
      ],
      "metadata": {
        "colab": {
          "base_uri": "https://localhost:8080/"
        },
        "id": "6MpGIw3VhObG",
        "outputId": "a91ad9ab-d2cc-4a03-a656-de90e5364c36"
      },
      "execution_count": null,
      "outputs": [
        {
          "output_type": "stream",
          "name": "stdout",
          "text": [
            "[[1.         0.97619066]\n",
            " [0.97619066 1.        ]]\n"
          ]
        }
      ]
    },
    {
      "cell_type": "markdown",
      "source": [
        " correlation coefficient close to +1 indicates a strong positive linear relationship between the variables. This means that as one variable increases, the other variable also tends to increase. from this analysis it can be understood that has number of study hours increase the score obtained also increases given the 0.97 correlation value."
      ],
      "metadata": {
        "id": "leDYaugR4RJt"
      }
    },
    {
      "cell_type": "markdown",
      "source": [
        "Using the rowvar argument instead,and  setting it to False to compute correlations among columns (variables) rather than among rows.\n",
        "This code  computed and print the correlation coefficient matrix for the DataFrame correctly. Unlike the code below where i tried to compute the correlation coffiecent  of the rows with the (csv_array, axis=0)."
      ],
      "metadata": {
        "id": "bTuYszGOieAg"
      }
    },
    {
      "cell_type": "code",
      "source": [
        "# Calculating correlation Coefficient\n",
        "correlation_coefficient_values = np.corrcoef(csv_array, axis=0)\n",
        "print(correlation_coefficient_values)"
      ],
      "metadata": {
        "colab": {
          "base_uri": "https://localhost:8080/",
          "height": 176
        },
        "id": "jLQLJu1XcpJw",
        "outputId": "2b197d48-5616-4e92-e771-2020f2eb58c9"
      },
      "execution_count": null,
      "outputs": [
        {
          "output_type": "error",
          "ename": "TypeError",
          "evalue": "corrcoef() got an unexpected keyword argument 'axis'",
          "traceback": [
            "\u001b[0;31m---------------------------------------------------------------------------\u001b[0m",
            "\u001b[0;31mTypeError\u001b[0m                                 Traceback (most recent call last)",
            "\u001b[0;32m<ipython-input-20-72a2d1292147>\u001b[0m in \u001b[0;36m<cell line: 2>\u001b[0;34m()\u001b[0m\n\u001b[1;32m      1\u001b[0m \u001b[0;31m# Calculating correlation Coefficient\u001b[0m\u001b[0;34m\u001b[0m\u001b[0;34m\u001b[0m\u001b[0m\n\u001b[0;32m----> 2\u001b[0;31m \u001b[0mcorrelation_coefficient_values\u001b[0m \u001b[0;34m=\u001b[0m \u001b[0mnp\u001b[0m\u001b[0;34m.\u001b[0m\u001b[0mcorrcoef\u001b[0m\u001b[0;34m(\u001b[0m\u001b[0mcsv_array\u001b[0m\u001b[0;34m,\u001b[0m \u001b[0maxis\u001b[0m\u001b[0;34m=\u001b[0m\u001b[0;36m0\u001b[0m\u001b[0;34m)\u001b[0m\u001b[0;34m\u001b[0m\u001b[0;34m\u001b[0m\u001b[0m\n\u001b[0m\u001b[1;32m      3\u001b[0m \u001b[0mprint\u001b[0m\u001b[0;34m(\u001b[0m\u001b[0mcorrelation_coefficient_values\u001b[0m\u001b[0;34m)\u001b[0m\u001b[0;34m\u001b[0m\u001b[0;34m\u001b[0m\u001b[0m\n",
            "\u001b[0;31mTypeError\u001b[0m: corrcoef() got an unexpected keyword argument 'axis'"
          ]
        }
      ]
    }
  ]
}