{
  "nbformat": 4,
  "nbformat_minor": 0,
  "metadata": {
    "colab": {
      "provenance": []
    },
    "kernelspec": {
      "name": "python3",
      "display_name": "Python 3"
    },
    "language_info": {
      "name": "python"
    }
  },
  "cells": [
    {
      "cell_type": "markdown",
      "source": [
        "QUESTION:ANALYSE A SMALL DATASET USING PYTHON, DOCUMENTING THE STEP BY STEP PROCESSOF THE DATA ANALYSIS JOURNEY\n"
      ],
      "metadata": {
        "id": "xl14JfYaYhvw"
      }
    },
    {
      "cell_type": "code",
      "execution_count": 3,
      "metadata": {
        "id": "bl8TtlIrYWDS"
      },
      "outputs": [],
      "source": [
        "### Importing the Library ###\n",
        "import pandas as pd\n"
      ]
    },
    {
      "cell_type": "code",
      "source": [
        "# Read the CSV file into a DataFrame\n",
        "df = pd.read_csv(\"INFO OF FRIENDS.csv\")"
      ],
      "metadata": {
        "id": "kf-HIIAWbFs0"
      },
      "execution_count": 4,
      "outputs": []
    },
    {
      "cell_type": "code",
      "source": [
        "# Display the DataFrame\n",
        "print(\"INFO OF FRIENDS:\")\n",
        "print(df)\n",
        "print()\n"
      ],
      "metadata": {
        "colab": {
          "base_uri": "https://localhost:8080/"
        },
        "id": "O6lMCrtkba8s",
        "outputId": "24b5cfcf-a17a-4da7-9ba6-329f6280a332"
      },
      "execution_count": 5,
      "outputs": [
        {
          "output_type": "stream",
          "name": "stdout",
          "text": [
            "INFO OF FRIENDS:\n",
            "          NAME  GENDER  AGE    RELIGION QUALIFICATION\n",
            "0        ABBAS    MALE   19      MUSLIM          SSCE\n",
            "1      BILKISU  FEMALE   20      MUSLIM           BSC\n",
            "2          ADE    MALE   18  CHRISTRIAN           BSC\n",
            "3       BASHIR    MALE   30      MUSLIM       MASTERS\n",
            "4      KINSLEY    MALE   24  CHRISTRIAN       MASTERS\n",
            "5        WENDY  FEMALE   25      MUSLIM       MASTERS\n",
            "6   ABDULAZEEZ    MALE   28      MUSLIM       MASTERS\n",
            "7         UMMI  FEMALE   32      MUSLIM           BSC\n",
            "8      MUJAHID    MALE   28      MUSLIM           PHD\n",
            "9        NAZER    MALE   24      MUSLIM       MASTERS\n",
            "10       AISHA  FEMALE   29      MUSLIM           PHD\n",
            "\n"
          ]
        }
      ]
    },
    {
      "cell_type": "code",
      "source": [
        "# Get some basic information about the DataFrame\n",
        "print(\"INFO OF FRIENDS Info:\")\n",
        "print(df.info())\n",
        "print()"
      ],
      "metadata": {
        "colab": {
          "base_uri": "https://localhost:8080/"
        },
        "id": "bmC3R6AGbkwt",
        "outputId": "975df18f-0b11-4373-ebcf-aae9bd3cb60a"
      },
      "execution_count": 6,
      "outputs": [
        {
          "output_type": "stream",
          "name": "stdout",
          "text": [
            "INFO OF FRIENDS Info:\n",
            "<class 'pandas.core.frame.DataFrame'>\n",
            "RangeIndex: 11 entries, 0 to 10\n",
            "Data columns (total 5 columns):\n",
            " #   Column         Non-Null Count  Dtype \n",
            "---  ------         --------------  ----- \n",
            " 0   NAME           11 non-null     object\n",
            " 1   GENDER         11 non-null     object\n",
            " 2   AGE            11 non-null     int64 \n",
            " 3   RELIGION       11 non-null     object\n",
            " 4   QUALIFICATION  11 non-null     object\n",
            "dtypes: int64(1), object(4)\n",
            "memory usage: 568.0+ bytes\n",
            "None\n",
            "\n"
          ]
        }
      ]
    },
    {
      "cell_type": "code",
      "source": [
        "# Add a new column to the DataFrame\n",
        "df['Height'] = [160, 120, 135, 123, 175,159, 145, 140, 155, 170, 165]  # Assuming heights in cm\n",
        "print(\"INFO OF FRIENDS with Height column:\")\n",
        "print(df)\n",
        "print()"
      ],
      "metadata": {
        "colab": {
          "base_uri": "https://localhost:8080/"
        },
        "id": "uxiPpSOGclwf",
        "outputId": "41031c22-9287-4946-8d47-853dbcd4c40b"
      },
      "execution_count": 9,
      "outputs": [
        {
          "output_type": "stream",
          "name": "stdout",
          "text": [
            "INFO OF FRIENDS with Height column:\n",
            "          NAME  GENDER  AGE    RELIGION QUALIFICATION  Height\n",
            "0        ABBAS    MALE   19      MUSLIM          SSCE     160\n",
            "1      BILKISU  FEMALE   20      MUSLIM           BSC     120\n",
            "2          ADE    MALE   18  CHRISTRIAN           BSC     135\n",
            "3       BASHIR    MALE   30      MUSLIM       MASTERS     123\n",
            "4      KINSLEY    MALE   24  CHRISTRIAN       MASTERS     175\n",
            "5        WENDY  FEMALE   25      MUSLIM       MASTERS     159\n",
            "6   ABDULAZEEZ    MALE   28      MUSLIM       MASTERS     145\n",
            "7         UMMI  FEMALE   32      MUSLIM           BSC     140\n",
            "8      MUJAHID    MALE   28      MUSLIM           PHD     155\n",
            "9        NAZER    MALE   24      MUSLIM       MASTERS     170\n",
            "10       AISHA  FEMALE   29      MUSLIM           PHD     165\n",
            "\n"
          ]
        }
      ]
    },
    {
      "cell_type": "code",
      "source": [],
      "metadata": {
        "id": "WHTt6iIpb9Kz"
      },
      "execution_count": null,
      "outputs": []
    }
  ]
}