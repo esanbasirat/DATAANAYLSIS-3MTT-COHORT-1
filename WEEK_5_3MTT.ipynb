{
  "nbformat": 4,
  "nbformat_minor": 0,
  "metadata": {
    "colab": {
      "provenance": []
    },
    "kernelspec": {
      "name": "python3",
      "display_name": "Python 3"
    },
    "language_info": {
      "name": "python"
    }
  },
  "cells": [
    {
      "cell_type": "markdown",
      "source": [
        "QUESTION WEEK 5: USE PANDAS TO CLEAN AND PREPROCESS A MESSY DATASET, DOCUMENTING THE STEP TAKEN DURING THE CLEANING PROCESS?"
      ],
      "metadata": {
        "id": "IS4tBQ0t6QIq"
      }
    },
    {
      "cell_type": "markdown",
      "source": [
        "### *PANDAS*\n",
        "Pandas is a Python library for data manipulation and analysis, introducing Series and DataFrame data structures. It simplifies tasks like filtering, transforming, and merging, and handles large datasets with tabular data structures. Pandas also offers tools for data cleaning, preprocessing, and normalization."
      ],
      "metadata": {
        "id": "VNEVs6S-0qGI"
      }
    },
    {
      "cell_type": "markdown",
      "source": [
        "Pandas Series is a column in a spreadsheet or DataFrame, consisting of labels and data. It can store elements of different data types using dtype (data type) and uses object data type. Pandas Series labels are default index numbers starting from 0."
      ],
      "metadata": {
        "id": "kEzq_WrfQ6g4"
      }
    },
    {
      "cell_type": "code",
      "execution_count": null,
      "metadata": {
        "colab": {
          "base_uri": "https://localhost:8080/"
        },
        "id": "3vuYgj-J0POm",
        "outputId": "1e4f4783-a3ae-4a16-c677-cc01dbe5514d"
      },
      "outputs": [
        {
          "output_type": "stream",
          "name": "stdout",
          "text": [
            "50\n"
          ]
        }
      ],
      "source": [
        "import pandas as pd\n",
        "# create a list\n",
        "data = [10, 15, 20, 50, 140]\n",
        "# create a series from the list\n",
        "a_series = pd.Series(data)\n",
        "\n",
        "# display third value in the series\n",
        "print(a_series[3])"
      ]
    },
    {
      "cell_type": "code",
      "source": [
        "import pandas as pd\n",
        "# create a list\n",
        "a = [1, 23, 35]\n",
        "# create a series and specify labels\n",
        "my_series = pd.Series(a, index = [\"x\", \"y\", \"z\"])\n",
        "\n",
        "print(my_series)"
      ],
      "metadata": {
        "colab": {
          "base_uri": "https://localhost:8080/"
        },
        "id": "Ll3LLurHSOOX",
        "outputId": "0ed1cfb6-1000-41d8-8111-d6dc8f0c6814"
      },
      "execution_count": null,
      "outputs": [
        {
          "output_type": "stream",
          "name": "stdout",
          "text": [
            "x     1\n",
            "y    23\n",
            "z    35\n",
            "dtype: int64\n"
          ]
        }
      ]
    },
    {
      "cell_type": "code",
      "source": [
        "import pandas as pd\n",
        "# create a dictionary\n",
        "grades_students = {\"Ade1\": 4.25, \"Bolu2\": 2.28, \"Alicia3\": 4.75}"
      ],
      "metadata": {
        "id": "ZKfJ2t8eS8fR"
      },
      "execution_count": null,
      "outputs": []
    },
    {
      "cell_type": "code",
      "source": [
        "# create a series from the dictionary\n",
        "my_series = pd.Series(grades_students)\n",
        "# display the series\n",
        "print(my_series)"
      ],
      "metadata": {
        "colab": {
          "base_uri": "https://localhost:8080/"
        },
        "id": "YaRELF0CSinX",
        "outputId": "1eca5532-d32e-43ac-faad-c418c03966c8"
      },
      "execution_count": null,
      "outputs": [
        {
          "output_type": "stream",
          "name": "stdout",
          "text": [
            "Ade1       4.25\n",
            "Bolu2      2.28\n",
            "Alicia3    4.75\n",
            "dtype: float64\n"
          ]
        }
      ]
    },
    {
      "cell_type": "markdown",
      "source": [
        "Creating a Dictionary dataframe"
      ],
      "metadata": {
        "id": "kdnHOV-ETlUP"
      }
    },
    {
      "cell_type": "code",
      "source": [
        "import pandas as pd\n",
        "# create a dictionary\n",
        "data = {'Name': ['Ummi', 'Aleena', 'Baby'],\n",
        "       'Age': [32, 20, 37],\n",
        "       'City': ['Scotland', 'HongKong', 'Alaska']}\n"
      ],
      "metadata": {
        "id": "bh3pE1_ETl6r"
      },
      "execution_count": null,
      "outputs": []
    },
    {
      "cell_type": "code",
      "source": [
        "# create a dataframe from the dictionary\n",
        "df = pd.DataFrame(data)\n",
        "print(df)"
      ],
      "metadata": {
        "colab": {
          "base_uri": "https://localhost:8080/"
        },
        "id": "xK-ppNThTv44",
        "outputId": "7304674e-e9a8-4f02-feea-31a29b641bc5"
      },
      "execution_count": null,
      "outputs": [
        {
          "output_type": "stream",
          "name": "stdout",
          "text": [
            "     Name  Age      City\n",
            "0    Ummi   32  Scotland\n",
            "1  Aleena   20  HongKong\n",
            "2    Baby   37    Alaska\n"
          ]
        }
      ]
    },
    {
      "cell_type": "markdown",
      "source": [
        "Pandas DataFrame using a two-dimensional Python list."
      ],
      "metadata": {
        "id": "zp5EU_PZVBr-"
      }
    },
    {
      "cell_type": "code",
      "source": [
        "import pandas as pd\n",
        "# create a two-dimensional list\n",
        "data = [['Ummi', 32, 'Scotland'],\n",
        "       ['Aleena', 20, 'Hongkong'],\n",
        "       ['Baby', 37, 'Alaska']]"
      ],
      "metadata": {
        "id": "_c_xPJIJVOzf"
      },
      "execution_count": null,
      "outputs": []
    },
    {
      "cell_type": "code",
      "source": [
        "# create a DataFrame from the list\n",
        "df = pd.DataFrame(data, columns=['Name', 'Age', 'City'])\n",
        "print(df)"
      ],
      "metadata": {
        "colab": {
          "base_uri": "https://localhost:8080/"
        },
        "id": "JJdsU-dbVXTi",
        "outputId": "2eb6dc4f-dfff-4a08-ff99-4370f04a968b"
      },
      "execution_count": null,
      "outputs": [
        {
          "output_type": "stream",
          "name": "stdout",
          "text": [
            "     Name  Age      City\n",
            "0    Ummi   32  Scotland\n",
            "1  Aleena   20  Hongkong\n",
            "2    Baby   37    Alaska\n"
          ]
        }
      ]
    },
    {
      "cell_type": "markdown",
      "source": [
        "Importing Pandas DataFrame From a File. This could be a csv, xls or sql.\n",
        "JSON, Excel spreadsheet, SQL database, etc. The methods to read different file types are listed below:\n",
        "JSON - read_json()\n",
        "Excel spreadsheet - read_excel()\n",
        "SQL - read_sql()"
      ],
      "metadata": {
        "id": "xVK6sbu0VUFB"
      }
    },
    {
      "cell_type": "code",
      "source": [
        "import pandas as pd\n",
        "# read csv file\n",
        "df = pd.read_csv('Batches.csv')\n",
        "print(df)"
      ],
      "metadata": {
        "colab": {
          "base_uri": "https://localhost:8080/"
        },
        "id": "0SYUEVBgXFie",
        "outputId": "4b98d4b3-94b0-41b9-f572-f2de122652c7"
      },
      "execution_count": null,
      "outputs": [
        {
          "output_type": "stream",
          "name": "stdout",
          "text": [
            "     S/N   LAST NAME      FIRST NAME MIDDLE NAME  MATRIC NUMBER  \\\n",
            "0      1     MESHACH         AKUMABI      ADEJOH            NaN   \n",
            "1      2   ABDULLAHI   UBAIDURRAHMAN    MUHAMMAD            NaN   \n",
            "2      3       YUSUF          FATIMA      BASHIR            NaN   \n",
            "3      4     TIJJANI           YUSUF         ALI            NaN   \n",
            "4      5       YUSUF      ABDULMALIK    MUHAMMAD            NaN   \n",
            "..   ...         ...             ...         ...            ...   \n",
            "140  141     IKELUGO       OGOCHUKWU     THERESA            NaN   \n",
            "141  142      SHITTU           IDRIS     ABIODUN            NaN   \n",
            "142  143  ABDULRAZAQ          MARYAM       IDRIS            NaN   \n",
            "143  144       AMINU   ABDULRASHEED          NaN            NaN   \n",
            "144  145         NaN             NaN         NaN            NaN   \n",
            "\n",
            "     ACCOUNT NUMBER   MATRIC NUMBER.1                 DEPARTMENT  \\\n",
            "0      1.100053e+09   BMS/PHS/22/1029           HUMAN PHYSIOLOGY   \n",
            "1      1.100056e+09   BMS/ANT/22/1024              HUMAN ANATOMY   \n",
            "2      1.100056e+09   BMS/PHS/22/1050           HUMAN PHYSIOLOGY   \n",
            "3      1.100056e+09   CLS/MBB/22/1084           MEDICAL SCIENCES   \n",
            "4      1.100056e+09   CLS/MBB/22/1076           MEDICAL SCIENCES   \n",
            "..              ...               ...                        ...   \n",
            "140    1.100099e+09  FASS/LEN/22/1012      ENGLISH & LINGUISTICS   \n",
            "141    1.100099e+09  FASS/LAR/22/1012         LINGUISTICS ARABIC   \n",
            "142    1.100099e+09   FAG/AEE/19/1072  AGRIC ECONS AND EXTENSION   \n",
            "143    1.100070e+09   FMS/BUS/22/1008     BUSINESS ADMINSTRATION   \n",
            "144             NaN               NaN                        NaN   \n",
            "\n",
            "                     FACULTY                       EmbossLine1  EmbossLine2  \\\n",
            "0      BASIC MEDICAL SCIENCE            MESHACH AKUMABI ADEJOH          NaN   \n",
            "1      BASIC MEDICAL SCIENCE  ABDULLAHI UBAIDURRAHMAN MUHAMMAD          NaN   \n",
            "2      BASIC MEDICAL SCIENCE               YUSUF FATIMA BASHIR          NaN   \n",
            "3           CLINICAL SCIENCE                 TIJJANI YUSUF ALI          NaN   \n",
            "4           CLINICAL SCIENCE         YUSUF ABDULMALIK MUHAMMAD          NaN   \n",
            "..                       ...                               ...          ...   \n",
            "140  ARTS AND SOCIAL SCIENCE         IKELUGO OGOCHUKWU THERESA          NaN   \n",
            "141  ARTS AND SOCIAL SCIENCE              SHITTU IDRIS ABIODUN          NaN   \n",
            "142              AGRICULTURE            ABDURAZAK MARYAM IDRIS          NaN   \n",
            "143       MANAGEMENT SCIENCE              AMINU ABDURLRASHEED           NaN   \n",
            "144                      NaN                               NaN          NaN   \n",
            "\n",
            "    Address1   City Country   State   MobilePhone  \n",
            "0        FUD  DUTSE      NG  JIGAWA  9.161972e+09  \n",
            "1        FUD  DUTSE      NG  JIGAWA  7.041891e+09  \n",
            "2        FUD  DUTSE      NG  JIGAWA  9.038400e+09  \n",
            "3        FUD  DUTSE      NG  JIGAWA  7.066757e+09  \n",
            "4        FUD  DUTSE      NG  JIGAWA  9.073632e+09  \n",
            "..       ...    ...     ...     ...           ...  \n",
            "140      FUD  DUTSE      NG  JIGAWA  8.065936e+09  \n",
            "141      FUD  DUTSE      NG  JIGAWA  8.162587e+09  \n",
            "142      FUD  DUTSE      NG  JIGAWA  8.067457e+09  \n",
            "143      FUD  DUTSE      NG  JIGAWA           NaN  \n",
            "144      NaN    NaN     NaN     NaN           NaN  \n",
            "\n",
            "[145 rows x 16 columns]\n"
          ]
        }
      ]
    },
    {
      "cell_type": "markdown",
      "source": [
        "The data set in the Csv file uploaded successfully printed giving the summary of the total rows and columns in the file."
      ],
      "metadata": {
        "id": "rKjhrkqZ4xbZ"
      }
    },
    {
      "cell_type": "markdown",
      "source": [
        "Pandas can also enable us read_csv() Syntax. Example below"
      ],
      "metadata": {
        "id": "LMPggGQ66-6L"
      }
    },
    {
      "cell_type": "markdown",
      "source": [
        "\n",
        "### Write to CSV Files\n",
        "Pandas offers the read_csv() function for reading data from a CSV file into a DataFrame, and the to_csv() function for writing data from a DataFrame into a CSV file."
      ],
      "metadata": {
        "id": "jfRJhtgd8TLW"
      }
    },
    {
      "cell_type": "code",
      "source": [
        "import pandas as pd\n",
        "# create a dictionary\n",
        "data = {'Name': ['Ade', 'Auwal', 'Balarabe'],\n",
        "        'Age': [25, 30, 35],\n",
        "        'City': ['Norway', 'Lagos', 'Penelope']}"
      ],
      "metadata": {
        "id": "ttsL47Nr-ZBi"
      },
      "execution_count": null,
      "outputs": []
    },
    {
      "cell_type": "code",
      "source": [
        "# create a dataframe from the dictionary\n",
        "df = pd.DataFrame(data)"
      ],
      "metadata": {
        "id": "OSQ9iLcT_Q3K"
      },
      "execution_count": null,
      "outputs": []
    },
    {
      "cell_type": "code",
      "source": [
        "# write dataframe to csv file\n",
        "df.to_csv('output.csv', index=False)\n",
        "print(df)"
      ],
      "metadata": {
        "colab": {
          "base_uri": "https://localhost:8080/"
        },
        "id": "aOa6X8Bt-66x",
        "outputId": "0f401752-3a94-4ed0-ade8-32e3936001b8"
      },
      "execution_count": null,
      "outputs": [
        {
          "output_type": "stream",
          "name": "stdout",
          "text": [
            "       Name  Age      City\n",
            "0       Ade   25    Norway\n",
            "1     Auwal   30     Lagos\n",
            "2  Balarabe   35  Penelope\n"
          ]
        }
      ]
    },
    {
      "cell_type": "markdown",
      "source": [
        "### **to_csv() With Arguments**\n",
        "Creating a dataframe with the to_csv() arguments"
      ],
      "metadata": {
        "id": "uKUkULr9_2EV"
      }
    },
    {
      "cell_type": "code",
      "source": [
        "import pandas as pd\n",
        "# create dataframe\n",
        "data = {'Name': ['Tola', 'Nife', 'Jide', 'Tife'],\n",
        "        'Age': [20, 21, 19, 18],\n",
        "        'City': ['New York', 'London', 'Paris', 'Berlin']}\n",
        "df = pd.DataFrame(data)\n",
        "# write to csv file\n",
        "df.to_csv('output.csv', sep = ';', index = False, header = True)\n",
        "print(df)"
      ],
      "metadata": {
        "colab": {
          "base_uri": "https://localhost:8080/"
        },
        "id": "bgj9pzVe_2pb",
        "outputId": "1d600d96-2d17-424e-a144-63ad56633ad9"
      },
      "execution_count": null,
      "outputs": [
        {
          "output_type": "stream",
          "name": "stdout",
          "text": [
            "   Name  Age      City\n",
            "0  Tola   20  New York\n",
            "1  Nife   21    London\n",
            "2  Jide   19     Paris\n",
            "3  Tife   18    Berlin\n"
          ]
        }
      ]
    },
    {
      "cell_type": "markdown",
      "source": [
        "## PANDAS DATA CLEANING\n",
        "Data cleaning means fixing and organizing messy data. Pandas provides various tools for data cleaning, including removing irrelevant columns, renaming column names, ensuring consistency in data values, and replacing missing values.\n",
        "Missing values, often represented as NaN (Not a Number), can cause problems during data processing and analysis. These gaps in data can lead to incorrect analysis and misleading conclusions."
      ],
      "metadata": {
        "id": "PEO2s3EAHAoU"
      }
    },
    {
      "cell_type": "markdown",
      "source": [
        "Data cleaning Rows With Missing Values using the dropna() function."
      ],
      "metadata": {
        "id": "ui3fs3rsJK1L"
      }
    },
    {
      "cell_type": "code",
      "source": [
        "import pandas as pd\n",
        "# define a dictionary with sample data which includes some missing values\n",
        "data = {\n",
        "    'A': [10, 20, 30, None, 50],\n",
        "    'B': [None, 25, 35, 40, 55],\n",
        "    'C': [15, 23, None, None, 65]\n",
        "}"
      ],
      "metadata": {
        "id": "TBTrZAY7Jsov"
      },
      "execution_count": null,
      "outputs": []
    },
    {
      "cell_type": "code",
      "source": [
        "df = pd.DataFrame(data)\n",
        "print(\"Original Data:\\n\",df)\n",
        "print()"
      ],
      "metadata": {
        "colab": {
          "base_uri": "https://localhost:8080/"
        },
        "id": "LKhp64F2JvlS",
        "outputId": "67dc000b-97b5-4ab1-965e-4a2a643c7ff1"
      },
      "execution_count": null,
      "outputs": [
        {
          "output_type": "stream",
          "name": "stdout",
          "text": [
            "Original Data:\n",
            "       A     B     C\n",
            "0  10.0   NaN  15.0\n",
            "1  20.0  25.0  23.0\n",
            "2  30.0  35.0   NaN\n",
            "3   NaN  40.0   NaN\n",
            "4  50.0  55.0  65.0\n",
            "\n"
          ]
        }
      ]
    },
    {
      "cell_type": "code",
      "source": [
        "# use dropna() to remove rows with any missing values\n",
        "df_cleaned = df.dropna()\n",
        "\n",
        "print(\"Cleaned Data:\\n\",df_cleaned)"
      ],
      "metadata": {
        "colab": {
          "base_uri": "https://localhost:8080/"
        },
        "id": "wSARxsglKx16",
        "outputId": "fbeadb70-c417-469a-df1c-81b42c07372f"
      },
      "execution_count": null,
      "outputs": [
        {
          "output_type": "stream",
          "name": "stdout",
          "text": [
            "Cleaned Data:\n",
            "       A     B     C\n",
            "1  20.0  25.0  23.0\n",
            "4  50.0  55.0  65.0\n"
          ]
        }
      ]
    },
    {
      "cell_type": "markdown",
      "source": [
        "Fill Missing Values using the fillna() function"
      ],
      "metadata": {
        "id": "Hpm0iPiBLcVJ"
      }
    },
    {
      "cell_type": "code",
      "source": [
        "import pandas as pd\n",
        "# define a dictionary with sample data which includes some missing values\n",
        "data = {\n",
        "    'Ade': [1, 2, 3, None, 5],\n",
        "    'Bolu': [None, 2, 3, 4, 5],\n",
        "    'Caleb': [1, 2, None, None, 5]\n",
        "}\n",
        "df = pd.DataFrame(data)\n",
        "print(\"Original Data:\\n\", df)"
      ],
      "metadata": {
        "colab": {
          "base_uri": "https://localhost:8080/"
        },
        "id": "5-TlVzWPL7um",
        "outputId": "eb57a617-c7c1-4647-9ee7-8a9dd2bf8e48"
      },
      "execution_count": null,
      "outputs": [
        {
          "output_type": "stream",
          "name": "stdout",
          "text": [
            "Original Data:\n",
            "    Ade  Bolu  Caleb\n",
            "0  1.0   NaN    1.0\n",
            "1  2.0   2.0    2.0\n",
            "2  3.0   3.0    NaN\n",
            "3  NaN   4.0    NaN\n",
            "4  5.0   5.0    5.0\n"
          ]
        }
      ]
    },
    {
      "cell_type": "code",
      "source": [
        "# filling NaN values with 0\n",
        "df.fillna(7, inplace=True)\n",
        "\n",
        "print(\"\\nData after filling NaN with 7:\\n\", df)"
      ],
      "metadata": {
        "colab": {
          "base_uri": "https://localhost:8080/"
        },
        "id": "ZJLfROvLL9HH",
        "outputId": "b21b8266-db4e-4476-caf3-200a56ceb279"
      },
      "execution_count": null,
      "outputs": [
        {
          "output_type": "stream",
          "name": "stdout",
          "text": [
            "\n",
            "Data after filling NaN with 7:\n",
            "    Ade  Bolu  Caleb\n",
            "0  1.0   7.0    1.0\n",
            "1  2.0   2.0    2.0\n",
            "2  3.0   3.0    7.0\n",
            "3  7.0   4.0    7.0\n",
            "4  5.0   5.0    5.0\n"
          ]
        }
      ]
    },
    {
      "cell_type": "markdown",
      "source": [
        "Instead of returning a new DataFrame with the alterations, the operation will alter the DataFrame directly because the inplace=True option is present."
      ],
      "metadata": {
        "id": "rECVQJhKMcg7"
      }
    },
    {
      "cell_type": "markdown",
      "source": [
        "The missing value cells can also be filled wthe aggregate functions to fill.\n",
        "Filling the dataframe with the mode."
      ],
      "metadata": {
        "id": "itXMZiHLsn2P"
      }
    },
    {
      "cell_type": "code",
      "source": [
        "import pandas as pd\n",
        "# define a dictionary with sample data which includes some missing values\n",
        "data = {\n",
        "    'Ade': [1, 2, 3, None, 5, 5],\n",
        "    'Bolu': [None, 2, 3, 4, 5, 7],\n",
        "    'Caleb': [1, 2, None, None, 5, 9]\n",
        "}"
      ],
      "metadata": {
        "id": "aWXaMjgvuuuK"
      },
      "execution_count": null,
      "outputs": []
    },
    {
      "cell_type": "code",
      "source": [
        "df = pd.DataFrame(data)\n",
        "print(\"Original Data:\\n\", df)\n",
        "# filling NaN values with the mode of each column\n",
        "df.fillna(df.mode(), inplace=True)\n",
        "\n",
        "print(\"\\nData after filling NaN with mode:\\n\", df)"
      ],
      "metadata": {
        "colab": {
          "base_uri": "https://localhost:8080/"
        },
        "id": "1YJjocrfuIX0",
        "outputId": "16217660-c61b-44f3-dbf1-33b7d7ff2c9f"
      },
      "execution_count": null,
      "outputs": [
        {
          "output_type": "stream",
          "name": "stdout",
          "text": [
            "Original Data:\n",
            "    Ade  Bolu  Caleb\n",
            "0  1.0   NaN    1.0\n",
            "1  2.0   2.0    2.0\n",
            "2  3.0   3.0    NaN\n",
            "3  NaN   4.0    NaN\n",
            "4  5.0   5.0    5.0\n",
            "5  5.0   7.0    9.0\n",
            "\n",
            "Data after filling NaN with mode:\n",
            "    Ade  Bolu  Caleb\n",
            "0  1.0   2.0    1.0\n",
            "1  2.0   2.0    2.0\n",
            "2  3.0   3.0    5.0\n",
            "3  NaN   4.0    9.0\n",
            "4  5.0   5.0    5.0\n",
            "5  5.0   7.0    9.0\n"
          ]
        }
      ]
    },
    {
      "cell_type": "markdown",
      "source": [
        "The cell with index 3 still has a NaN because there is no most frequent or hight number of times it appeared in it. We can also use this function to fill with the mean, median or any descriptive statistics of choice."
      ],
      "metadata": {
        "id": "x03YTXYVv3K8"
      }
    },
    {
      "cell_type": "markdown",
      "source": [
        "### CLEANING OF DUPLICATED ROWS\n",
        "Duplicated rows could occur due to error in the coalition of the dataset. Duplication of a data set will inevitable give error in the results; for this reason there is need to clean the dataset.\n",
        "In Pandas, to handle duplicate rows, we can use the duplicated() and the drop_duplicates() function.\n",
        "duplicated() - to check for duplicates\n",
        "drop_duplicates() - remove duplicate rows"
      ],
      "metadata": {
        "id": "-WCNGma_wqf1"
      }
    },
    {
      "cell_type": "code",
      "source": [
        "import pandas as pd\n",
        "\n",
        "# sample data\n",
        "data = {\n",
        "    'Alvin': [1, 2, 3, 3, 4, 4],\n",
        "    'Quinns': [5, 6, 5, 7, 8, 8]\n",
        "}\n",
        "df = pd.DataFrame(data)\n",
        "print(\"Original DataFrame:\\n\", df.to_string(index=False))\n"
      ],
      "metadata": {
        "colab": {
          "base_uri": "https://localhost:8080/"
        },
        "id": "CyOelS8Ow6BW",
        "outputId": "a24e2188-258a-4e05-f67d-d68fa4f034a8"
      },
      "execution_count": null,
      "outputs": [
        {
          "output_type": "stream",
          "name": "stdout",
          "text": [
            "Original DataFrame:\n",
            "  Alvin  Quinns\n",
            "     1       5\n",
            "     2       6\n",
            "     3       5\n",
            "     3       7\n",
            "     4       8\n",
            "     4       8\n"
          ]
        }
      ]
    },
    {
      "cell_type": "code",
      "source": [
        "# detect duplicates\n",
        "print(\"\\nDuplicate Rows:\\n\", df[df.duplicated()].to_string(index=False))\n"
      ],
      "metadata": {
        "colab": {
          "base_uri": "https://localhost:8080/"
        },
        "id": "w8Nwe1KQyFeT",
        "outputId": "9aca5bef-5b60-4095-d351-79eb70fd8baf"
      },
      "execution_count": null,
      "outputs": [
        {
          "output_type": "stream",
          "name": "stdout",
          "text": [
            "\n",
            "Duplicate Rows:\n",
            "  Alvin  Quinns\n",
            "     4       8\n"
          ]
        }
      ]
    },
    {
      "cell_type": "code",
      "source": [
        "# remove duplicates based on column 'Alvin'\n",
        "df.drop_duplicates(subset=['Alvin'], keep='first', inplace=True)\n",
        "print(\"\\nDataFrame after removing duplicates based on column 'Alvin':\\n\", df.to_string(index=False))"
      ],
      "metadata": {
        "colab": {
          "base_uri": "https://localhost:8080/"
        },
        "id": "zV9qpFvGyQCs",
        "outputId": "04db485d-0c2a-4626-d293-8041031c0cc2"
      },
      "execution_count": null,
      "outputs": [
        {
          "output_type": "stream",
          "name": "stdout",
          "text": [
            "\n",
            "DataFrame after removing duplicates based on column 'Alvin':\n",
            "  Alvin  Quinns\n",
            "     1       5\n",
            "     2       6\n",
            "     3       5\n",
            "     4       8\n"
          ]
        }
      ]
    },
    {
      "cell_type": "markdown",
      "source": [
        "From the above the original dataset had 6 rows and 2 columns, after the cleaning we now have only 4 rows and 2 columns. Cleaning out the duplicated rows and columns.\n",
        "To find duplicate rows, use df[df.duplicated()] to generate a boolean Series.\n",
        "Using column Alvin as a guide, df.drop_duplicates(subset=['Alvin'], keep='first', inplace=True) eliminates duplicates, leaving only the first instance of each duplicate in the original DataFrame."
      ],
      "metadata": {
        "id": "K139Yb1hyiKq"
      }
    },
    {
      "cell_type": "markdown",
      "source": [
        "### **Rename Column Names to Meaningful Names**\n",
        "To rename column names to more meaningful names in Pandas, we can use the rename() function."
      ],
      "metadata": {
        "id": "18Yx7TCn0DpD"
      }
    },
    {
      "cell_type": "code",
      "source": [
        "import pandas as pd\n",
        "# sample data\n",
        "data = {\n",
        "    'J': ['Analyst', 'Actor', 'Model', 'Researcher'],\n",
        "    'T': ['Habib', 'Maria', 'Bahil', 'Zaid'],\n",
        "    'E': [70000, 30000, 12000, ]\n",
        "}\n",
        "df = pd.DataFrame(data)"
      ],
      "metadata": {
        "colab": {
          "base_uri": "https://localhost:8080/",
          "height": 321
        },
        "id": "sMh8ubSo0RVc",
        "outputId": "4fc8801e-be61-45b7-bc3e-2159710db1e1"
      },
      "execution_count": null,
      "outputs": [
        {
          "output_type": "error",
          "ename": "ValueError",
          "evalue": "All arrays must be of the same length",
          "traceback": [
            "\u001b[0;31m---------------------------------------------------------------------------\u001b[0m",
            "\u001b[0;31mValueError\u001b[0m                                Traceback (most recent call last)",
            "\u001b[0;32m<ipython-input-17-4272c48e3794>\u001b[0m in \u001b[0;36m<cell line: 8>\u001b[0;34m()\u001b[0m\n\u001b[1;32m      6\u001b[0m     \u001b[0;34m'E'\u001b[0m\u001b[0;34m:\u001b[0m \u001b[0;34m[\u001b[0m\u001b[0;36m70000\u001b[0m\u001b[0;34m,\u001b[0m \u001b[0;36m30000\u001b[0m\u001b[0;34m,\u001b[0m \u001b[0;36m12000\u001b[0m\u001b[0;34m,\u001b[0m \u001b[0;34m]\u001b[0m\u001b[0;34m\u001b[0m\u001b[0;34m\u001b[0m\u001b[0m\n\u001b[1;32m      7\u001b[0m }\n\u001b[0;32m----> 8\u001b[0;31m \u001b[0mdf\u001b[0m \u001b[0;34m=\u001b[0m \u001b[0mpd\u001b[0m\u001b[0;34m.\u001b[0m\u001b[0mDataFrame\u001b[0m\u001b[0;34m(\u001b[0m\u001b[0mdata\u001b[0m\u001b[0;34m)\u001b[0m\u001b[0;34m\u001b[0m\u001b[0;34m\u001b[0m\u001b[0m\n\u001b[0m",
            "\u001b[0;32m/usr/local/lib/python3.10/dist-packages/pandas/core/frame.py\u001b[0m in \u001b[0;36m__init__\u001b[0;34m(self, data, index, columns, dtype, copy)\u001b[0m\n\u001b[1;32m    662\u001b[0m         \u001b[0;32melif\u001b[0m \u001b[0misinstance\u001b[0m\u001b[0;34m(\u001b[0m\u001b[0mdata\u001b[0m\u001b[0;34m,\u001b[0m \u001b[0mdict\u001b[0m\u001b[0;34m)\u001b[0m\u001b[0;34m:\u001b[0m\u001b[0;34m\u001b[0m\u001b[0;34m\u001b[0m\u001b[0m\n\u001b[1;32m    663\u001b[0m             \u001b[0;31m# GH#38939 de facto copy defaults to False only in non-dict cases\u001b[0m\u001b[0;34m\u001b[0m\u001b[0;34m\u001b[0m\u001b[0m\n\u001b[0;32m--> 664\u001b[0;31m             \u001b[0mmgr\u001b[0m \u001b[0;34m=\u001b[0m \u001b[0mdict_to_mgr\u001b[0m\u001b[0;34m(\u001b[0m\u001b[0mdata\u001b[0m\u001b[0;34m,\u001b[0m \u001b[0mindex\u001b[0m\u001b[0;34m,\u001b[0m \u001b[0mcolumns\u001b[0m\u001b[0;34m,\u001b[0m \u001b[0mdtype\u001b[0m\u001b[0;34m=\u001b[0m\u001b[0mdtype\u001b[0m\u001b[0;34m,\u001b[0m \u001b[0mcopy\u001b[0m\u001b[0;34m=\u001b[0m\u001b[0mcopy\u001b[0m\u001b[0;34m,\u001b[0m \u001b[0mtyp\u001b[0m\u001b[0;34m=\u001b[0m\u001b[0mmanager\u001b[0m\u001b[0;34m)\u001b[0m\u001b[0;34m\u001b[0m\u001b[0;34m\u001b[0m\u001b[0m\n\u001b[0m\u001b[1;32m    665\u001b[0m         \u001b[0;32melif\u001b[0m \u001b[0misinstance\u001b[0m\u001b[0;34m(\u001b[0m\u001b[0mdata\u001b[0m\u001b[0;34m,\u001b[0m \u001b[0mma\u001b[0m\u001b[0;34m.\u001b[0m\u001b[0mMaskedArray\u001b[0m\u001b[0;34m)\u001b[0m\u001b[0;34m:\u001b[0m\u001b[0;34m\u001b[0m\u001b[0;34m\u001b[0m\u001b[0m\n\u001b[1;32m    666\u001b[0m             \u001b[0;32mimport\u001b[0m \u001b[0mnumpy\u001b[0m\u001b[0;34m.\u001b[0m\u001b[0mma\u001b[0m\u001b[0;34m.\u001b[0m\u001b[0mmrecords\u001b[0m \u001b[0;32mas\u001b[0m \u001b[0mmrecords\u001b[0m\u001b[0;34m\u001b[0m\u001b[0;34m\u001b[0m\u001b[0m\n",
            "\u001b[0;32m/usr/local/lib/python3.10/dist-packages/pandas/core/internals/construction.py\u001b[0m in \u001b[0;36mdict_to_mgr\u001b[0;34m(data, index, columns, dtype, typ, copy)\u001b[0m\n\u001b[1;32m    491\u001b[0m             \u001b[0marrays\u001b[0m \u001b[0;34m=\u001b[0m \u001b[0;34m[\u001b[0m\u001b[0mx\u001b[0m\u001b[0;34m.\u001b[0m\u001b[0mcopy\u001b[0m\u001b[0;34m(\u001b[0m\u001b[0;34m)\u001b[0m \u001b[0;32mif\u001b[0m \u001b[0mhasattr\u001b[0m\u001b[0;34m(\u001b[0m\u001b[0mx\u001b[0m\u001b[0;34m,\u001b[0m \u001b[0;34m\"dtype\"\u001b[0m\u001b[0;34m)\u001b[0m \u001b[0;32melse\u001b[0m \u001b[0mx\u001b[0m \u001b[0;32mfor\u001b[0m \u001b[0mx\u001b[0m \u001b[0;32min\u001b[0m \u001b[0marrays\u001b[0m\u001b[0;34m]\u001b[0m\u001b[0;34m\u001b[0m\u001b[0;34m\u001b[0m\u001b[0m\n\u001b[1;32m    492\u001b[0m \u001b[0;34m\u001b[0m\u001b[0m\n\u001b[0;32m--> 493\u001b[0;31m     \u001b[0;32mreturn\u001b[0m \u001b[0marrays_to_mgr\u001b[0m\u001b[0;34m(\u001b[0m\u001b[0marrays\u001b[0m\u001b[0;34m,\u001b[0m \u001b[0mcolumns\u001b[0m\u001b[0;34m,\u001b[0m \u001b[0mindex\u001b[0m\u001b[0;34m,\u001b[0m \u001b[0mdtype\u001b[0m\u001b[0;34m=\u001b[0m\u001b[0mdtype\u001b[0m\u001b[0;34m,\u001b[0m \u001b[0mtyp\u001b[0m\u001b[0;34m=\u001b[0m\u001b[0mtyp\u001b[0m\u001b[0;34m,\u001b[0m \u001b[0mconsolidate\u001b[0m\u001b[0;34m=\u001b[0m\u001b[0mcopy\u001b[0m\u001b[0;34m)\u001b[0m\u001b[0;34m\u001b[0m\u001b[0;34m\u001b[0m\u001b[0m\n\u001b[0m\u001b[1;32m    494\u001b[0m \u001b[0;34m\u001b[0m\u001b[0m\n\u001b[1;32m    495\u001b[0m \u001b[0;34m\u001b[0m\u001b[0m\n",
            "\u001b[0;32m/usr/local/lib/python3.10/dist-packages/pandas/core/internals/construction.py\u001b[0m in \u001b[0;36marrays_to_mgr\u001b[0;34m(arrays, columns, index, dtype, verify_integrity, typ, consolidate)\u001b[0m\n\u001b[1;32m    116\u001b[0m         \u001b[0;31m# figure out the index, if necessary\u001b[0m\u001b[0;34m\u001b[0m\u001b[0;34m\u001b[0m\u001b[0m\n\u001b[1;32m    117\u001b[0m         \u001b[0;32mif\u001b[0m \u001b[0mindex\u001b[0m \u001b[0;32mis\u001b[0m \u001b[0;32mNone\u001b[0m\u001b[0;34m:\u001b[0m\u001b[0;34m\u001b[0m\u001b[0;34m\u001b[0m\u001b[0m\n\u001b[0;32m--> 118\u001b[0;31m             \u001b[0mindex\u001b[0m \u001b[0;34m=\u001b[0m \u001b[0m_extract_index\u001b[0m\u001b[0;34m(\u001b[0m\u001b[0marrays\u001b[0m\u001b[0;34m)\u001b[0m\u001b[0;34m\u001b[0m\u001b[0;34m\u001b[0m\u001b[0m\n\u001b[0m\u001b[1;32m    119\u001b[0m         \u001b[0;32melse\u001b[0m\u001b[0;34m:\u001b[0m\u001b[0;34m\u001b[0m\u001b[0;34m\u001b[0m\u001b[0m\n\u001b[1;32m    120\u001b[0m             \u001b[0mindex\u001b[0m \u001b[0;34m=\u001b[0m \u001b[0mensure_index\u001b[0m\u001b[0;34m(\u001b[0m\u001b[0mindex\u001b[0m\u001b[0;34m)\u001b[0m\u001b[0;34m\u001b[0m\u001b[0;34m\u001b[0m\u001b[0m\n",
            "\u001b[0;32m/usr/local/lib/python3.10/dist-packages/pandas/core/internals/construction.py\u001b[0m in \u001b[0;36m_extract_index\u001b[0;34m(data)\u001b[0m\n\u001b[1;32m    664\u001b[0m             \u001b[0mlengths\u001b[0m \u001b[0;34m=\u001b[0m \u001b[0mlist\u001b[0m\u001b[0;34m(\u001b[0m\u001b[0mset\u001b[0m\u001b[0;34m(\u001b[0m\u001b[0mraw_lengths\u001b[0m\u001b[0;34m)\u001b[0m\u001b[0;34m)\u001b[0m\u001b[0;34m\u001b[0m\u001b[0;34m\u001b[0m\u001b[0m\n\u001b[1;32m    665\u001b[0m             \u001b[0;32mif\u001b[0m \u001b[0mlen\u001b[0m\u001b[0;34m(\u001b[0m\u001b[0mlengths\u001b[0m\u001b[0;34m)\u001b[0m \u001b[0;34m>\u001b[0m \u001b[0;36m1\u001b[0m\u001b[0;34m:\u001b[0m\u001b[0;34m\u001b[0m\u001b[0;34m\u001b[0m\u001b[0m\n\u001b[0;32m--> 666\u001b[0;31m                 \u001b[0;32mraise\u001b[0m \u001b[0mValueError\u001b[0m\u001b[0;34m(\u001b[0m\u001b[0;34m\"All arrays must be of the same length\"\u001b[0m\u001b[0;34m)\u001b[0m\u001b[0;34m\u001b[0m\u001b[0;34m\u001b[0m\u001b[0m\n\u001b[0m\u001b[1;32m    667\u001b[0m \u001b[0;34m\u001b[0m\u001b[0m\n\u001b[1;32m    668\u001b[0m             \u001b[0;32mif\u001b[0m \u001b[0mhave_dicts\u001b[0m\u001b[0;34m:\u001b[0m\u001b[0;34m\u001b[0m\u001b[0;34m\u001b[0m\u001b[0m\n",
            "\u001b[0;31mValueError\u001b[0m: All arrays must be of the same length"
          ]
        }
      ]
    },
    {
      "cell_type": "markdown",
      "source": [
        "The above error occured because the third row of data had 3 variable/values instead of the 4 all the other two has. To correct this we add the value for the forth set"
      ],
      "metadata": {
        "id": "FCagWZG-1re-"
      }
    },
    {
      "cell_type": "code",
      "source": [
        "import pandas as pd\n",
        "# sample data\n",
        "data = {\n",
        "    'J': ['Analyst', 'Actor', 'Model', 'Researcher'],\n",
        "    'T': ['Habib', 'Maria', 'Bahil', 'Zaid'],\n",
        "    'E': [70000, 30000, 12000, 50000]\n",
        "}\n",
        "df = pd.DataFrame(data)"
      ],
      "metadata": {
        "id": "4T5izj0E2HOJ"
      },
      "execution_count": null,
      "outputs": []
    },
    {
      "cell_type": "code",
      "source": [
        "# rename columns\n",
        "df.rename(columns={'J': 'Job', 'T': 'Name', 'E': 'Earnings'}, inplace=True)\n",
        "print(df.to_string(index=False))"
      ],
      "metadata": {
        "colab": {
          "base_uri": "https://localhost:8080/"
        },
        "id": "gDJyD50C1Vae",
        "outputId": "5c7e00b0-a7a1-4683-c983-2768e5318efc"
      },
      "execution_count": null,
      "outputs": [
        {
          "output_type": "stream",
          "name": "stdout",
          "text": [
            "       Job  Name  Earnings\n",
            "   Analyst Habib     70000\n",
            "     Actor Maria     30000\n",
            "     Model Bahil     12000\n",
            "Researcher  Zaid     50000\n"
          ]
        }
      ]
    },
    {
      "cell_type": "markdown",
      "source": [
        "Above , the columns of df are renamed from J, T, and E to more meaningful names Job, Name, and Earnings respectively."
      ],
      "metadata": {
        "id": "pkGsHMgZ393l"
      }
    },
    {
      "cell_type": "markdown",
      "source": [
        "## Replace Values Using Another DataFrame\n",
        "We can replace missing values in one DataFrame using another DataFrame using the fillna() method."
      ],
      "metadata": {
        "id": "hJ_8f26j6P6q"
      }
    },
    {
      "cell_type": "code",
      "source": [
        "import pandas as pd\n",
        "import numpy as np\n",
        "\n",
        "# create a dataframe with missing values\n",
        "data1 = {\n",
        "    'Arewa': [11, 45, np.nan, 47, 67],\n",
        "    'Bidemi': [np.nan, 20, 35, 48, 50],\n",
        "    'Cutie': [10, 20, 33, np.nan, 25],\n",
        "    'Darling': [15, 26, 31, 40, 52]\n",
        "}\n",
        "df1 = pd.DataFrame(data1)"
      ],
      "metadata": {
        "id": "TTVYpKhC6dlS"
      },
      "execution_count": null,
      "outputs": []
    },
    {
      "cell_type": "code",
      "source": [
        "# create datframe to fill the missing values with\n",
        "data2 = {\n",
        "    'Arewa': [10, 20, 30, 40, 50],\n",
        "    'Bidemi': [10, 20, 30, 40, 50],\n",
        "    'Cutie': [10, 20, 30, 40, 50],\n",
        "    'Darling': [10, 20, 30, 40, 50]\n",
        "}\n",
        "df2 = pd.DataFrame(data2)"
      ],
      "metadata": {
        "id": "I7vjh1BB6hwc"
      },
      "execution_count": null,
      "outputs": []
    },
    {
      "cell_type": "code",
      "source": [
        "# replace missing values\n",
        "df1.fillna(df2, inplace=True)\n",
        "print(df1)"
      ],
      "metadata": {
        "colab": {
          "base_uri": "https://localhost:8080/"
        },
        "id": "2lD3DXzg7Ub0",
        "outputId": "56067bb8-c529-4713-c93a-568477ab3495"
      },
      "execution_count": null,
      "outputs": [
        {
          "output_type": "stream",
          "name": "stdout",
          "text": [
            "   Arewa  Bidemi  Cutie  Darling\n",
            "0   11.0    10.0   10.0       15\n",
            "1   45.0    20.0   20.0       26\n",
            "2   30.0    35.0   33.0       31\n",
            "3   47.0    48.0   40.0       40\n",
            "4   67.0    50.0   25.0       52\n"
          ]
        }
      ]
    },
    {
      "cell_type": "markdown",
      "source": [
        "The dataframe in the dfq that has NaN in it has been replaced by those of the same cell in the df2 function."
      ],
      "metadata": {
        "id": "93juZ3lP7b0d"
      }
    },
    {
      "cell_type": "markdown",
      "source": [
        "HANDLING WRONG DATA\n",
        "Errors in a dataset, such as human error or data from shady sources, can significantly compromise the accuracy and dependability of the data analysis."
      ],
      "metadata": {
        "id": "KFVAC9-6M1RY"
      }
    },
    {
      "cell_type": "code",
      "source": [
        "import pandas as pd\n",
        "# create dataframe\n",
        "data = {\n",
        "    'Name': ['Hauwa', 'Hannan', 'Tahir', 'Aleena', 'Rahama'],\n",
        "    'Age': [11, 9, 12, 80, 100],\n",
        "    'Gender': ['F', 'F', 'F', 'F', 'F'],\n",
        "    'Standard': [13, 14, 12, 30, 15]\n",
        "}\n",
        "df = pd.DataFrame(data)\n",
        "print(df)"
      ],
      "metadata": {
        "colab": {
          "base_uri": "https://localhost:8080/"
        },
        "id": "cSaH0yjdNk7V",
        "outputId": "c8db7f45-e8a1-4658-a6ec-fc9dbc0571cd"
      },
      "execution_count": 2,
      "outputs": [
        {
          "output_type": "stream",
          "name": "stdout",
          "text": [
            "     Name  Age Gender  Standard\n",
            "0   Hauwa   11      F        13\n",
            "1  Hannan    9      F        14\n",
            "2   Tahir   12      F        12\n",
            "3  Aleena   80      F        30\n",
            "4  Rahama  100      F        15\n"
          ]
        }
      ]
    },
    {
      "cell_type": "markdown",
      "source": [
        "Noticing that the indexed cell 2 has a wrong data of 'F' instead of 'M'. This can be corrrected using the df.loc[ ] function. While this method is effective for small datasets, it becomes tedious as the size of the dataset grows."
      ],
      "metadata": {
        "id": "3P4ba_NaOg7d"
      }
    },
    {
      "cell_type": "code",
      "source": [
        "# replace F with M\n",
        "df.loc[2, 'Gender'] = 'M'\n",
        "print(df)"
      ],
      "metadata": {
        "colab": {
          "base_uri": "https://localhost:8080/"
        },
        "id": "lLIzXrVROPv2",
        "outputId": "0e66d942-d357-4984-c94d-d1be24d0bbff"
      },
      "execution_count": 3,
      "outputs": [
        {
          "output_type": "stream",
          "name": "stdout",
          "text": [
            "     Name  Age Gender  Standard\n",
            "0   Hauwa   11      F        13\n",
            "1  Hannan    9      F        14\n",
            "2   Tahir   12      M        12\n",
            "3  Aleena   80      F        30\n",
            "4  Rahama  100      F        15\n"
          ]
        }
      ]
    },
    {
      "cell_type": "markdown",
      "source": [
        "## Replace Values Based on a Condition\n",
        "Replace values based on a condition by iterating through them to check if the condition is met. For instance, the maximum age of students in an elementary school is 14."
      ],
      "metadata": {
        "id": "d-Yj3IwdPMUn"
      }
    },
    {
      "cell_type": "code",
      "source": [
        "import pandas as pd\n",
        "# create dataframe\n",
        "data = {\n",
        "    'Name': ['Hauwa', 'Hannan', 'Tahir', 'Aleena', 'Rahama'],\n",
        "    'Age': [11, 9, 12, 80, 100],\n",
        "    'Gender': ['F', 'F', 'M', 'F', 'F']\n",
        "}\n",
        "df = pd.DataFrame(data)\n",
        "print(df)"
      ],
      "metadata": {
        "colab": {
          "base_uri": "https://localhost:8080/"
        },
        "id": "fm7-A3JxPtPO",
        "outputId": "567b487c-10f9-4693-fba3-0efb50610b65"
      },
      "execution_count": 6,
      "outputs": [
        {
          "output_type": "stream",
          "name": "stdout",
          "text": [
            "     Name  Age Gender\n",
            "0   Hauwa   11      F\n",
            "1  Hannan    9      F\n",
            "2   Tahir   12      M\n",
            "3  Aleena   80      F\n",
            "4  Rahama  100      F\n"
          ]
        }
      ]
    },
    {
      "cell_type": "code",
      "source": [
        "# Replace values based on conditions\n",
        "for i  in df.index:\n",
        "    age_val = df.loc[i, 'Age']\n",
        "    if (age_val > 14) and (age_val%10 == 0):\n",
        "        df.loc[i, 'Age'] = age_val/10\n",
        "print(df)"
      ],
      "metadata": {
        "colab": {
          "base_uri": "https://localhost:8080/"
        },
        "id": "ROP-cQRMPoJ2",
        "outputId": "5490f0bc-8710-4d22-b4fa-54461e414058"
      },
      "execution_count": 7,
      "outputs": [
        {
          "output_type": "stream",
          "name": "stdout",
          "text": [
            "     Name  Age Gender\n",
            "0   Hauwa   11      F\n",
            "1  Hannan    9      F\n",
            "2   Tahir   12      M\n",
            "3  Aleena    8      F\n",
            "4  Rahama   10      F\n"
          ]
        }
      ]
    },
    {
      "cell_type": "markdown",
      "source": [
        "The above code has corrected the anormaly of the ages greater than 14 where 80 and 100 have been corrected to 8  and 10 respectively."
      ],
      "metadata": {
        "id": "pmoIrpsZQWuF"
      }
    }
  ]
}